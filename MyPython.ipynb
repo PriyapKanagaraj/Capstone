{
    "cells": [
        {
            "cell_type": "code",
            "execution_count": 73,
            "metadata": {},
            "outputs": [],
            "source": "import pandas as pd\nimport numpy as np"
        },
        {
            "cell_type": "code",
            "execution_count": 74,
            "metadata": {},
            "outputs": [
                {
                    "data": {
                        "text/html": "<div>\n<style scoped>\n    .dataframe tbody tr th:only-of-type {\n        vertical-align: middle;\n    }\n\n    .dataframe tbody tr th {\n        vertical-align: top;\n    }\n\n    .dataframe thead th {\n        text-align: right;\n    }\n</style>\n<table border=\"1\" class=\"dataframe\">\n  <thead>\n    <tr style=\"text-align: right;\">\n      <th></th>\n      <th>Postal Code</th>\n      <th>Borough</th>\n      <th>Neighborhood</th>\n    </tr>\n  </thead>\n  <tbody>\n    <tr>\n      <th>0</th>\n      <td>M1A</td>\n      <td>Not assigned</td>\n      <td>Not assigned</td>\n    </tr>\n    <tr>\n      <th>1</th>\n      <td>M2A</td>\n      <td>Not assigned</td>\n      <td>Not assigned</td>\n    </tr>\n    <tr>\n      <th>2</th>\n      <td>M3A</td>\n      <td>North York</td>\n      <td>Parkwoods</td>\n    </tr>\n    <tr>\n      <th>3</th>\n      <td>M4A</td>\n      <td>North York</td>\n      <td>Victoria Village</td>\n    </tr>\n    <tr>\n      <th>4</th>\n      <td>M5A</td>\n      <td>Downtown Toronto</td>\n      <td>Regent Park, Harbourfront</td>\n    </tr>\n  </tbody>\n</table>\n</div>",
                        "text/plain": "  Postal Code           Borough               Neighborhood\n0         M1A      Not assigned               Not assigned\n1         M2A      Not assigned               Not assigned\n2         M3A        North York                  Parkwoods\n3         M4A        North York           Victoria Village\n4         M5A  Downtown Toronto  Regent Park, Harbourfront"
                    },
                    "execution_count": 74,
                    "metadata": {},
                    "output_type": "execute_result"
                }
            ],
            "source": "link = \"https://en.wikipedia.org/wiki/List_of_postal_codes_of_Canada:_M\"\ntables = pd.read_html(link)\nTorNeigh = tables[0]\nTorNeigh.head()"
        },
        {
            "cell_type": "code",
            "execution_count": 75,
            "metadata": {},
            "outputs": [
                {
                    "name": "stdout",
                    "output_type": "stream",
                    "text": "    Postal Code           Borough  \\\n2           M3A        North York   \n3           M4A        North York   \n4           M5A  Downtown Toronto   \n5           M6A        North York   \n6           M7A  Downtown Toronto   \n8           M9A         Etobicoke   \n9           M1B       Scarborough   \n11          M3B        North York   \n12          M4B         East York   \n13          M5B  Downtown Toronto   \n14          M6B        North York   \n17          M9B         Etobicoke   \n18          M1C       Scarborough   \n20          M3C        North York   \n21          M4C         East York   \n22          M5C  Downtown Toronto   \n23          M6C              York   \n26          M9C         Etobicoke   \n27          M1E       Scarborough   \n30          M4E      East Toronto   \n31          M5E  Downtown Toronto   \n32          M6E              York   \n36          M1G       Scarborough   \n39          M4G         East York   \n40          M5G  Downtown Toronto   \n41          M6G  Downtown Toronto   \n45          M1H       Scarborough   \n46          M2H        North York   \n47          M3H        North York   \n48          M4H         East York   \n..          ...               ...   \n111         M4R   Central Toronto   \n112         M5R   Central Toronto   \n113         M6R      West Toronto   \n114         M7R       Mississauga   \n116         M9R         Etobicoke   \n117         M1S       Scarborough   \n120         M4S   Central Toronto   \n121         M5S  Downtown Toronto   \n122         M6S      West Toronto   \n126         M1T       Scarborough   \n129         M4T   Central Toronto   \n130         M5T  Downtown Toronto   \n135         M1V       Scarborough   \n138         M4V   Central Toronto   \n139         M5V  Downtown Toronto   \n142         M8V         Etobicoke   \n143         M9V         Etobicoke   \n144         M1W       Scarborough   \n147         M4W  Downtown Toronto   \n148         M5W  Downtown Toronto   \n151         M8W         Etobicoke   \n152         M9W         Etobicoke   \n153         M1X       Scarborough   \n156         M4X  Downtown Toronto   \n157         M5X  Downtown Toronto   \n160         M8X         Etobicoke   \n165         M4Y  Downtown Toronto   \n168         M7Y      East Toronto   \n169         M8Y         Etobicoke   \n178         M8Z         Etobicoke   \n\n                                          Neighborhood  \n2                                            Parkwoods  \n3                                     Victoria Village  \n4                            Regent Park, Harbourfront  \n5                     Lawrence Manor, Lawrence Heights  \n6          Queen's Park, Ontario Provincial Government  \n8              Islington Avenue, Humber Valley Village  \n9                                       Malvern, Rouge  \n11                                           Don Mills  \n12                     Parkview Hill, Woodbine Gardens  \n13                            Garden District, Ryerson  \n14                                           Glencairn  \n17   West Deane Park, Princess Gardens, Martin Grov...  \n18              Rouge Hill, Port Union, Highland Creek  \n20                                           Don Mills  \n21                                    Woodbine Heights  \n22                                      St. James Town  \n23                                  Humewood-Cedarvale  \n26   Eringate, Bloordale Gardens, Old Burnhamthorpe...  \n27                   Guildwood, Morningside, West Hill  \n30                                         The Beaches  \n31                                         Berczy Park  \n32                                 Caledonia-Fairbanks  \n36                                              Woburn  \n39                                             Leaside  \n40                                  Central Bay Street  \n41                                            Christie  \n45                                           Cedarbrae  \n46                                   Hillcrest Village  \n47     Bathurst Manor, Wilson Heights, Downsview North  \n48                                    Thorncliffe Park  \n..                                                 ...  \n111                  North Toronto West, Lawrence Park  \n112                The Annex, North Midtown, Yorkville  \n113                             Parkdale, Roncesvalles  \n114              Canada Post Gateway Processing Centre  \n116  Kingsview Village, St. Phillips, Martin Grove ...  \n117                                          Agincourt  \n120                                         Davisville  \n121                     University of Toronto, Harbord  \n122                                 Runnymede, Swansea  \n126            Clarks Corners, Tam O'Shanter, Sullivan  \n129                        Moore Park, Summerhill East  \n130          Kensington Market, Chinatown, Grange Park  \n135  Milliken, Agincourt North, Steeles East, L'Amo...  \n138  Summerhill West, Rathnelly, South Hill, Forest...  \n139  CN Tower, King and Spadina, Railway Lands, Har...  \n142       New Toronto, Mimico South, Humber Bay Shores  \n143  South Steeles, Silverstone, Humbergate, Jamest...  \n144                      Steeles West, L'Amoreaux West  \n147                                           Rosedale  \n148                                     Stn A PO Boxes  \n151                             Alderwood, Long Branch  \n152                Northwest, West Humber - Clairville  \n153                                        Upper Rouge  \n156                        St. James Town, Cabbagetown  \n157             First Canadian Place, Underground city  \n160      The Kingsway, Montgomery Road, Old Mill North  \n165                               Church and Wellesley  \n168  Business reply mail Processing Centre, South C...  \n169  Old Mill South, King's Mill Park, Sunnylea, Hu...  \n178  Mimico NW, The Queensway West, South of Bloor,...  \n\n[103 rows x 3 columns]\n"
                }
            ],
            "source": "TorNeigh = TorNeigh[(TorNeigh['Borough'] != \"Not assigned\")]\nprint(TorNeigh)"
        },
        {
            "cell_type": "code",
            "execution_count": 79,
            "metadata": {},
            "outputs": [
                {
                    "data": {
                        "text/plain": "(103, 5)"
                    },
                    "execution_count": 79,
                    "metadata": {},
                    "output_type": "execute_result"
                }
            ],
            "source": "TorNeigh.shape"
        },
        {
            "cell_type": "code",
            "execution_count": 77,
            "metadata": {},
            "outputs": [
                {
                    "data": {
                        "text/html": "<div>\n<style scoped>\n    .dataframe tbody tr th:only-of-type {\n        vertical-align: middle;\n    }\n\n    .dataframe tbody tr th {\n        vertical-align: top;\n    }\n\n    .dataframe thead th {\n        text-align: right;\n    }\n</style>\n<table border=\"1\" class=\"dataframe\">\n  <thead>\n    <tr style=\"text-align: right;\">\n      <th></th>\n      <th>Postal Code</th>\n      <th>Latitude</th>\n      <th>Longitude</th>\n    </tr>\n  </thead>\n  <tbody>\n    <tr>\n      <th>0</th>\n      <td>M1B</td>\n      <td>43.806686</td>\n      <td>-79.194353</td>\n    </tr>\n    <tr>\n      <th>1</th>\n      <td>M1C</td>\n      <td>43.784535</td>\n      <td>-79.160497</td>\n    </tr>\n    <tr>\n      <th>2</th>\n      <td>M1E</td>\n      <td>43.763573</td>\n      <td>-79.188711</td>\n    </tr>\n    <tr>\n      <th>3</th>\n      <td>M1G</td>\n      <td>43.770992</td>\n      <td>-79.216917</td>\n    </tr>\n    <tr>\n      <th>4</th>\n      <td>M1H</td>\n      <td>43.773136</td>\n      <td>-79.239476</td>\n    </tr>\n  </tbody>\n</table>\n</div>",
                        "text/plain": "  Postal Code   Latitude  Longitude\n0         M1B  43.806686 -79.194353\n1         M1C  43.784535 -79.160497\n2         M1E  43.763573 -79.188711\n3         M1G  43.770992 -79.216917\n4         M1H  43.773136 -79.239476"
                    },
                    "execution_count": 77,
                    "metadata": {},
                    "output_type": "execute_result"
                }
            ],
            "source": "TorNeighXY = pd.read_csv(\"https://cocl.us/Geospatial_data\")\nTorNeighXY.head()"
        },
        {
            "cell_type": "code",
            "execution_count": 80,
            "metadata": {},
            "outputs": [
                {
                    "data": {
                        "text/html": "<div>\n<style scoped>\n    .dataframe tbody tr th:only-of-type {\n        vertical-align: middle;\n    }\n\n    .dataframe tbody tr th {\n        vertical-align: top;\n    }\n\n    .dataframe thead th {\n        text-align: right;\n    }\n</style>\n<table border=\"1\" class=\"dataframe\">\n  <thead>\n    <tr style=\"text-align: right;\">\n      <th></th>\n      <th>Postal Code</th>\n      <th>Borough</th>\n      <th>Neighborhood</th>\n      <th>Latitude_x</th>\n      <th>Longitude_x</th>\n      <th>Latitude_y</th>\n      <th>Longitude_y</th>\n    </tr>\n  </thead>\n  <tbody>\n    <tr>\n      <th>0</th>\n      <td>M3A</td>\n      <td>North York</td>\n      <td>Parkwoods</td>\n      <td>43.753259</td>\n      <td>-79.329656</td>\n      <td>43.753259</td>\n      <td>-79.329656</td>\n    </tr>\n    <tr>\n      <th>1</th>\n      <td>M4A</td>\n      <td>North York</td>\n      <td>Victoria Village</td>\n      <td>43.725882</td>\n      <td>-79.315572</td>\n      <td>43.725882</td>\n      <td>-79.315572</td>\n    </tr>\n    <tr>\n      <th>2</th>\n      <td>M5A</td>\n      <td>Downtown Toronto</td>\n      <td>Regent Park, Harbourfront</td>\n      <td>43.654260</td>\n      <td>-79.360636</td>\n      <td>43.654260</td>\n      <td>-79.360636</td>\n    </tr>\n    <tr>\n      <th>3</th>\n      <td>M6A</td>\n      <td>North York</td>\n      <td>Lawrence Manor, Lawrence Heights</td>\n      <td>43.718518</td>\n      <td>-79.464763</td>\n      <td>43.718518</td>\n      <td>-79.464763</td>\n    </tr>\n    <tr>\n      <th>4</th>\n      <td>M7A</td>\n      <td>Downtown Toronto</td>\n      <td>Queen's Park, Ontario Provincial Government</td>\n      <td>43.662301</td>\n      <td>-79.389494</td>\n      <td>43.662301</td>\n      <td>-79.389494</td>\n    </tr>\n  </tbody>\n</table>\n</div>",
                        "text/plain": "  Postal Code           Borough                                 Neighborhood  \\\n0         M3A        North York                                    Parkwoods   \n1         M4A        North York                             Victoria Village   \n2         M5A  Downtown Toronto                    Regent Park, Harbourfront   \n3         M6A        North York             Lawrence Manor, Lawrence Heights   \n4         M7A  Downtown Toronto  Queen's Park, Ontario Provincial Government   \n\n   Latitude_x  Longitude_x  Latitude_y  Longitude_y  \n0   43.753259   -79.329656   43.753259   -79.329656  \n1   43.725882   -79.315572   43.725882   -79.315572  \n2   43.654260   -79.360636   43.654260   -79.360636  \n3   43.718518   -79.464763   43.718518   -79.464763  \n4   43.662301   -79.389494   43.662301   -79.389494  "
                    },
                    "execution_count": 80,
                    "metadata": {},
                    "output_type": "execute_result"
                }
            ],
            "source": "\nTorNeigh = TorNeigh.merge(TorNeighXY, on = \"Postal Code\")\nTorNeigh.head()"
        },
        {
            "cell_type": "code",
            "execution_count": null,
            "metadata": {},
            "outputs": [],
            "source": ""
        },
        {
            "cell_type": "code",
            "execution_count": null,
            "metadata": {},
            "outputs": [],
            "source": ""
        }
    ],
    "metadata": {
        "kernelspec": {
            "display_name": "Python 3.6",
            "language": "python",
            "name": "python3"
        },
        "language_info": {
            "codemirror_mode": {
                "name": "ipython",
                "version": 3
            },
            "file_extension": ".py",
            "mimetype": "text/x-python",
            "name": "python",
            "nbconvert_exporter": "python",
            "pygments_lexer": "ipython3",
            "version": "3.6.9"
        }
    },
    "nbformat": 4,
    "nbformat_minor": 1
}